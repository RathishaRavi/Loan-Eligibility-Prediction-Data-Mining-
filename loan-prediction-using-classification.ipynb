{
 "cells": [
  {
   "cell_type": "code",
   "execution_count": 1,
   "id": "7610ad78",
   "metadata": {
    "_cell_guid": "b1076dfc-b9ad-4769-8c92-a6c4dae69d19",
    "_uuid": "8f2839f25d086af736a60e9eeb907d3b93b6e0e5",
    "execution": {
     "iopub.execute_input": "2023-09-10T10:58:07.016273Z",
     "iopub.status.busy": "2023-09-10T10:58:07.015392Z",
     "iopub.status.idle": "2023-09-10T10:58:07.384248Z",
     "shell.execute_reply": "2023-09-10T10:58:07.383240Z"
    },
    "papermill": {
     "duration": 0.390572,
     "end_time": "2023-09-10T10:58:07.387526",
     "exception": false,
     "start_time": "2023-09-10T10:58:06.996954",
     "status": "completed"
    },
    "tags": []
   },
   "outputs": [
    {
     "name": "stdout",
     "output_type": "stream",
     "text": [
      "/kaggle/input/eligibility-prediction-for-loan/Loan_Data.csv\n"
     ]
    }
   ],
   "source": [
    "# This Python 3 environment comes with many helpful analytics libraries installed\n",
    "# It is defined by the kaggle/python Docker image: https://github.com/kaggle/docker-python\n",
    "# For example, here's several helpful packages to load\n",
    "\n",
    "import numpy as np # linear algebra\n",
    "import pandas as pd # data processing, CSV file I/O (e.g. pd.read_csv)\n",
    "\n",
    "# Input data files are available in the read-only \"../input/\" directory\n",
    "# For example, running this (by clicking run or pressing Shift+Enter) will list all files under the input directory\n",
    "\n",
    "import os\n",
    "for dirname, _, filenames in os.walk('/kaggle/input'):\n",
    "    for filename in filenames:\n",
    "        print(os.path.join(dirname, filename))\n",
    "\n",
    "# You can write up to 20GB to the current directory (/kaggle/working/) that gets preserved as output when you create a version using \"Save & Run All\" \n",
    "# You can also write temporary files to /kaggle/temp/, but they won't be saved outside of the current session"
   ]
  },
  {
   "cell_type": "code",
   "execution_count": 2,
   "id": "04b8067b",
   "metadata": {
    "execution": {
     "iopub.execute_input": "2023-09-10T10:58:07.421982Z",
     "iopub.status.busy": "2023-09-10T10:58:07.421534Z",
     "iopub.status.idle": "2023-09-10T10:58:07.426039Z",
     "shell.execute_reply": "2023-09-10T10:58:07.424996Z"
    },
    "papermill": {
     "duration": 0.023002,
     "end_time": "2023-09-10T10:58:07.427995",
     "exception": false,
     "start_time": "2023-09-10T10:58:07.404993",
     "status": "completed"
    },
    "tags": []
   },
   "outputs": [],
   "source": [
    "import pandas as pd\n",
    "import numpy as np\n",
    "import matplotlib.pyplot as plt"
   ]
  },
  {
   "cell_type": "code",
   "execution_count": 3,
   "id": "915d880c",
   "metadata": {
    "execution": {
     "iopub.execute_input": "2023-09-10T10:58:07.460853Z",
     "iopub.status.busy": "2023-09-10T10:58:07.459982Z",
     "iopub.status.idle": "2023-09-10T10:58:07.505547Z",
     "shell.execute_reply": "2023-09-10T10:58:07.504356Z"
    },
    "papermill": {
     "duration": 0.06477,
     "end_time": "2023-09-10T10:58:07.507762",
     "exception": false,
     "start_time": "2023-09-10T10:58:07.442992",
     "status": "completed"
    },
    "tags": []
   },
   "outputs": [
    {
     "data": {
      "text/html": [
       "<div>\n",
       "<style scoped>\n",
       "    .dataframe tbody tr th:only-of-type {\n",
       "        vertical-align: middle;\n",
       "    }\n",
       "\n",
       "    .dataframe tbody tr th {\n",
       "        vertical-align: top;\n",
       "    }\n",
       "\n",
       "    .dataframe thead th {\n",
       "        text-align: right;\n",
       "    }\n",
       "</style>\n",
       "<table border=\"1\" class=\"dataframe\">\n",
       "  <thead>\n",
       "    <tr style=\"text-align: right;\">\n",
       "      <th></th>\n",
       "      <th>Loan_ID</th>\n",
       "      <th>Gender</th>\n",
       "      <th>Married</th>\n",
       "      <th>Dependents</th>\n",
       "      <th>Education</th>\n",
       "      <th>Self_Employed</th>\n",
       "      <th>ApplicantIncome</th>\n",
       "      <th>CoapplicantIncome</th>\n",
       "      <th>LoanAmount</th>\n",
       "      <th>Loan_Amount_Term</th>\n",
       "      <th>Credit_History</th>\n",
       "      <th>Property_Area</th>\n",
       "      <th>Loan_Status</th>\n",
       "    </tr>\n",
       "  </thead>\n",
       "  <tbody>\n",
       "    <tr>\n",
       "      <th>0</th>\n",
       "      <td>LP001002</td>\n",
       "      <td>Male</td>\n",
       "      <td>No</td>\n",
       "      <td>0</td>\n",
       "      <td>Graduate</td>\n",
       "      <td>No</td>\n",
       "      <td>5849</td>\n",
       "      <td>0.0</td>\n",
       "      <td>NaN</td>\n",
       "      <td>360.0</td>\n",
       "      <td>1.0</td>\n",
       "      <td>Urban</td>\n",
       "      <td>Y</td>\n",
       "    </tr>\n",
       "    <tr>\n",
       "      <th>1</th>\n",
       "      <td>LP001003</td>\n",
       "      <td>Male</td>\n",
       "      <td>Yes</td>\n",
       "      <td>1</td>\n",
       "      <td>Graduate</td>\n",
       "      <td>No</td>\n",
       "      <td>4583</td>\n",
       "      <td>1508.0</td>\n",
       "      <td>128.0</td>\n",
       "      <td>360.0</td>\n",
       "      <td>1.0</td>\n",
       "      <td>Rural</td>\n",
       "      <td>N</td>\n",
       "    </tr>\n",
       "    <tr>\n",
       "      <th>2</th>\n",
       "      <td>LP001005</td>\n",
       "      <td>Male</td>\n",
       "      <td>Yes</td>\n",
       "      <td>0</td>\n",
       "      <td>Graduate</td>\n",
       "      <td>Yes</td>\n",
       "      <td>3000</td>\n",
       "      <td>0.0</td>\n",
       "      <td>66.0</td>\n",
       "      <td>360.0</td>\n",
       "      <td>1.0</td>\n",
       "      <td>Urban</td>\n",
       "      <td>Y</td>\n",
       "    </tr>\n",
       "    <tr>\n",
       "      <th>3</th>\n",
       "      <td>LP001006</td>\n",
       "      <td>Male</td>\n",
       "      <td>Yes</td>\n",
       "      <td>0</td>\n",
       "      <td>Not Graduate</td>\n",
       "      <td>No</td>\n",
       "      <td>2583</td>\n",
       "      <td>2358.0</td>\n",
       "      <td>120.0</td>\n",
       "      <td>360.0</td>\n",
       "      <td>1.0</td>\n",
       "      <td>Urban</td>\n",
       "      <td>Y</td>\n",
       "    </tr>\n",
       "    <tr>\n",
       "      <th>4</th>\n",
       "      <td>LP001008</td>\n",
       "      <td>Male</td>\n",
       "      <td>No</td>\n",
       "      <td>0</td>\n",
       "      <td>Graduate</td>\n",
       "      <td>No</td>\n",
       "      <td>6000</td>\n",
       "      <td>0.0</td>\n",
       "      <td>141.0</td>\n",
       "      <td>360.0</td>\n",
       "      <td>1.0</td>\n",
       "      <td>Urban</td>\n",
       "      <td>Y</td>\n",
       "    </tr>\n",
       "  </tbody>\n",
       "</table>\n",
       "</div>"
      ],
      "text/plain": [
       "    Loan_ID Gender Married Dependents     Education Self_Employed  \\\n",
       "0  LP001002   Male      No          0      Graduate            No   \n",
       "1  LP001003   Male     Yes          1      Graduate            No   \n",
       "2  LP001005   Male     Yes          0      Graduate           Yes   \n",
       "3  LP001006   Male     Yes          0  Not Graduate            No   \n",
       "4  LP001008   Male      No          0      Graduate            No   \n",
       "\n",
       "   ApplicantIncome  CoapplicantIncome  LoanAmount  Loan_Amount_Term  \\\n",
       "0             5849                0.0         NaN             360.0   \n",
       "1             4583             1508.0       128.0             360.0   \n",
       "2             3000                0.0        66.0             360.0   \n",
       "3             2583             2358.0       120.0             360.0   \n",
       "4             6000                0.0       141.0             360.0   \n",
       "\n",
       "   Credit_History Property_Area Loan_Status  \n",
       "0             1.0         Urban           Y  \n",
       "1             1.0         Rural           N  \n",
       "2             1.0         Urban           Y  \n",
       "3             1.0         Urban           Y  \n",
       "4             1.0         Urban           Y  "
      ]
     },
     "execution_count": 3,
     "metadata": {},
     "output_type": "execute_result"
    }
   ],
   "source": [
    "df = pd.read_csv('/kaggle/input/eligibility-prediction-for-loan/Loan_Data.csv')\n",
    "df.head()"
   ]
  },
  {
   "cell_type": "code",
   "execution_count": 4,
   "id": "d4df6043",
   "metadata": {
    "execution": {
     "iopub.execute_input": "2023-09-10T10:58:07.541783Z",
     "iopub.status.busy": "2023-09-10T10:58:07.540853Z",
     "iopub.status.idle": "2023-09-10T10:58:07.565480Z",
     "shell.execute_reply": "2023-09-10T10:58:07.564086Z"
    },
    "papermill": {
     "duration": 0.043505,
     "end_time": "2023-09-10T10:58:07.567751",
     "exception": false,
     "start_time": "2023-09-10T10:58:07.524246",
     "status": "completed"
    },
    "tags": []
   },
   "outputs": [
    {
     "name": "stdout",
     "output_type": "stream",
     "text": [
      "<class 'pandas.core.frame.DataFrame'>\n",
      "RangeIndex: 614 entries, 0 to 613\n",
      "Data columns (total 13 columns):\n",
      " #   Column             Non-Null Count  Dtype  \n",
      "---  ------             --------------  -----  \n",
      " 0   Loan_ID            614 non-null    object \n",
      " 1   Gender             601 non-null    object \n",
      " 2   Married            611 non-null    object \n",
      " 3   Dependents         599 non-null    object \n",
      " 4   Education          614 non-null    object \n",
      " 5   Self_Employed      582 non-null    object \n",
      " 6   ApplicantIncome    614 non-null    int64  \n",
      " 7   CoapplicantIncome  614 non-null    float64\n",
      " 8   LoanAmount         592 non-null    float64\n",
      " 9   Loan_Amount_Term   600 non-null    float64\n",
      " 10  Credit_History     564 non-null    float64\n",
      " 11  Property_Area      614 non-null    object \n",
      " 12  Loan_Status        614 non-null    object \n",
      "dtypes: float64(4), int64(1), object(8)\n",
      "memory usage: 62.5+ KB\n"
     ]
    }
   ],
   "source": [
    "df.info()"
   ]
  },
  {
   "cell_type": "code",
   "execution_count": 5,
   "id": "38472932",
   "metadata": {
    "execution": {
     "iopub.execute_input": "2023-09-10T10:58:07.603084Z",
     "iopub.status.busy": "2023-09-10T10:58:07.602333Z",
     "iopub.status.idle": "2023-09-10T10:58:07.626321Z",
     "shell.execute_reply": "2023-09-10T10:58:07.625386Z"
    },
    "papermill": {
     "duration": 0.043738,
     "end_time": "2023-09-10T10:58:07.628073",
     "exception": false,
     "start_time": "2023-09-10T10:58:07.584335",
     "status": "completed"
    },
    "tags": []
   },
   "outputs": [
    {
     "data": {
      "text/html": [
       "<div>\n",
       "<style scoped>\n",
       "    .dataframe tbody tr th:only-of-type {\n",
       "        vertical-align: middle;\n",
       "    }\n",
       "\n",
       "    .dataframe tbody tr th {\n",
       "        vertical-align: top;\n",
       "    }\n",
       "\n",
       "    .dataframe thead th {\n",
       "        text-align: right;\n",
       "    }\n",
       "</style>\n",
       "<table border=\"1\" class=\"dataframe\">\n",
       "  <thead>\n",
       "    <tr style=\"text-align: right;\">\n",
       "      <th></th>\n",
       "      <th>ApplicantIncome</th>\n",
       "      <th>CoapplicantIncome</th>\n",
       "      <th>LoanAmount</th>\n",
       "      <th>Loan_Amount_Term</th>\n",
       "      <th>Credit_History</th>\n",
       "    </tr>\n",
       "  </thead>\n",
       "  <tbody>\n",
       "    <tr>\n",
       "      <th>count</th>\n",
       "      <td>614.000000</td>\n",
       "      <td>614.000000</td>\n",
       "      <td>592.000000</td>\n",
       "      <td>600.00000</td>\n",
       "      <td>564.000000</td>\n",
       "    </tr>\n",
       "    <tr>\n",
       "      <th>mean</th>\n",
       "      <td>5403.459283</td>\n",
       "      <td>1621.245798</td>\n",
       "      <td>146.412162</td>\n",
       "      <td>342.00000</td>\n",
       "      <td>0.842199</td>\n",
       "    </tr>\n",
       "    <tr>\n",
       "      <th>std</th>\n",
       "      <td>6109.041673</td>\n",
       "      <td>2926.248369</td>\n",
       "      <td>85.587325</td>\n",
       "      <td>65.12041</td>\n",
       "      <td>0.364878</td>\n",
       "    </tr>\n",
       "    <tr>\n",
       "      <th>min</th>\n",
       "      <td>150.000000</td>\n",
       "      <td>0.000000</td>\n",
       "      <td>9.000000</td>\n",
       "      <td>12.00000</td>\n",
       "      <td>0.000000</td>\n",
       "    </tr>\n",
       "    <tr>\n",
       "      <th>25%</th>\n",
       "      <td>2877.500000</td>\n",
       "      <td>0.000000</td>\n",
       "      <td>100.000000</td>\n",
       "      <td>360.00000</td>\n",
       "      <td>1.000000</td>\n",
       "    </tr>\n",
       "    <tr>\n",
       "      <th>50%</th>\n",
       "      <td>3812.500000</td>\n",
       "      <td>1188.500000</td>\n",
       "      <td>128.000000</td>\n",
       "      <td>360.00000</td>\n",
       "      <td>1.000000</td>\n",
       "    </tr>\n",
       "    <tr>\n",
       "      <th>75%</th>\n",
       "      <td>5795.000000</td>\n",
       "      <td>2297.250000</td>\n",
       "      <td>168.000000</td>\n",
       "      <td>360.00000</td>\n",
       "      <td>1.000000</td>\n",
       "    </tr>\n",
       "    <tr>\n",
       "      <th>max</th>\n",
       "      <td>81000.000000</td>\n",
       "      <td>41667.000000</td>\n",
       "      <td>700.000000</td>\n",
       "      <td>480.00000</td>\n",
       "      <td>1.000000</td>\n",
       "    </tr>\n",
       "  </tbody>\n",
       "</table>\n",
       "</div>"
      ],
      "text/plain": [
       "       ApplicantIncome  CoapplicantIncome  LoanAmount  Loan_Amount_Term  \\\n",
       "count       614.000000         614.000000  592.000000         600.00000   \n",
       "mean       5403.459283        1621.245798  146.412162         342.00000   \n",
       "std        6109.041673        2926.248369   85.587325          65.12041   \n",
       "min         150.000000           0.000000    9.000000          12.00000   \n",
       "25%        2877.500000           0.000000  100.000000         360.00000   \n",
       "50%        3812.500000        1188.500000  128.000000         360.00000   \n",
       "75%        5795.000000        2297.250000  168.000000         360.00000   \n",
       "max       81000.000000       41667.000000  700.000000         480.00000   \n",
       "\n",
       "       Credit_History  \n",
       "count      564.000000  \n",
       "mean         0.842199  \n",
       "std          0.364878  \n",
       "min          0.000000  \n",
       "25%          1.000000  \n",
       "50%          1.000000  \n",
       "75%          1.000000  \n",
       "max          1.000000  "
      ]
     },
     "execution_count": 5,
     "metadata": {},
     "output_type": "execute_result"
    }
   ],
   "source": [
    "df.describe()"
   ]
  },
  {
   "cell_type": "code",
   "execution_count": 6,
   "id": "7f2b3317",
   "metadata": {
    "execution": {
     "iopub.execute_input": "2023-09-10T10:58:07.661871Z",
     "iopub.status.busy": "2023-09-10T10:58:07.661225Z",
     "iopub.status.idle": "2023-09-10T10:58:07.681256Z",
     "shell.execute_reply": "2023-09-10T10:58:07.680477Z"
    },
    "papermill": {
     "duration": 0.039284,
     "end_time": "2023-09-10T10:58:07.683288",
     "exception": false,
     "start_time": "2023-09-10T10:58:07.644004",
     "status": "completed"
    },
    "tags": []
   },
   "outputs": [
    {
     "data": {
      "text/html": [
       "<div>\n",
       "<style scoped>\n",
       "    .dataframe tbody tr th:only-of-type {\n",
       "        vertical-align: middle;\n",
       "    }\n",
       "\n",
       "    .dataframe tbody tr th {\n",
       "        vertical-align: top;\n",
       "    }\n",
       "\n",
       "    .dataframe thead th {\n",
       "        text-align: right;\n",
       "    }\n",
       "</style>\n",
       "<table border=\"1\" class=\"dataframe\">\n",
       "  <thead>\n",
       "    <tr style=\"text-align: right;\">\n",
       "      <th></th>\n",
       "      <th>Gender</th>\n",
       "      <th>Married</th>\n",
       "      <th>Dependents</th>\n",
       "      <th>Education</th>\n",
       "      <th>Self_Employed</th>\n",
       "      <th>ApplicantIncome</th>\n",
       "      <th>CoapplicantIncome</th>\n",
       "      <th>LoanAmount</th>\n",
       "      <th>Loan_Amount_Term</th>\n",
       "      <th>Credit_History</th>\n",
       "      <th>Property_Area</th>\n",
       "    </tr>\n",
       "  </thead>\n",
       "  <tbody>\n",
       "    <tr>\n",
       "      <th>0</th>\n",
       "      <td>Male</td>\n",
       "      <td>No</td>\n",
       "      <td>0</td>\n",
       "      <td>Graduate</td>\n",
       "      <td>No</td>\n",
       "      <td>5849</td>\n",
       "      <td>0.0</td>\n",
       "      <td>NaN</td>\n",
       "      <td>360.0</td>\n",
       "      <td>1.0</td>\n",
       "      <td>Urban</td>\n",
       "    </tr>\n",
       "    <tr>\n",
       "      <th>1</th>\n",
       "      <td>Male</td>\n",
       "      <td>Yes</td>\n",
       "      <td>1</td>\n",
       "      <td>Graduate</td>\n",
       "      <td>No</td>\n",
       "      <td>4583</td>\n",
       "      <td>1508.0</td>\n",
       "      <td>128.0</td>\n",
       "      <td>360.0</td>\n",
       "      <td>1.0</td>\n",
       "      <td>Rural</td>\n",
       "    </tr>\n",
       "    <tr>\n",
       "      <th>2</th>\n",
       "      <td>Male</td>\n",
       "      <td>Yes</td>\n",
       "      <td>0</td>\n",
       "      <td>Graduate</td>\n",
       "      <td>Yes</td>\n",
       "      <td>3000</td>\n",
       "      <td>0.0</td>\n",
       "      <td>66.0</td>\n",
       "      <td>360.0</td>\n",
       "      <td>1.0</td>\n",
       "      <td>Urban</td>\n",
       "    </tr>\n",
       "    <tr>\n",
       "      <th>3</th>\n",
       "      <td>Male</td>\n",
       "      <td>Yes</td>\n",
       "      <td>0</td>\n",
       "      <td>Not Graduate</td>\n",
       "      <td>No</td>\n",
       "      <td>2583</td>\n",
       "      <td>2358.0</td>\n",
       "      <td>120.0</td>\n",
       "      <td>360.0</td>\n",
       "      <td>1.0</td>\n",
       "      <td>Urban</td>\n",
       "    </tr>\n",
       "    <tr>\n",
       "      <th>4</th>\n",
       "      <td>Male</td>\n",
       "      <td>No</td>\n",
       "      <td>0</td>\n",
       "      <td>Graduate</td>\n",
       "      <td>No</td>\n",
       "      <td>6000</td>\n",
       "      <td>0.0</td>\n",
       "      <td>141.0</td>\n",
       "      <td>360.0</td>\n",
       "      <td>1.0</td>\n",
       "      <td>Urban</td>\n",
       "    </tr>\n",
       "  </tbody>\n",
       "</table>\n",
       "</div>"
      ],
      "text/plain": [
       "  Gender Married Dependents     Education Self_Employed  ApplicantIncome  \\\n",
       "0   Male      No          0      Graduate            No             5849   \n",
       "1   Male     Yes          1      Graduate            No             4583   \n",
       "2   Male     Yes          0      Graduate           Yes             3000   \n",
       "3   Male     Yes          0  Not Graduate            No             2583   \n",
       "4   Male      No          0      Graduate            No             6000   \n",
       "\n",
       "   CoapplicantIncome  LoanAmount  Loan_Amount_Term  Credit_History  \\\n",
       "0                0.0         NaN             360.0             1.0   \n",
       "1             1508.0       128.0             360.0             1.0   \n",
       "2                0.0        66.0             360.0             1.0   \n",
       "3             2358.0       120.0             360.0             1.0   \n",
       "4                0.0       141.0             360.0             1.0   \n",
       "\n",
       "  Property_Area  \n",
       "0         Urban  \n",
       "1         Rural  \n",
       "2         Urban  \n",
       "3         Urban  \n",
       "4         Urban  "
      ]
     },
     "execution_count": 6,
     "metadata": {},
     "output_type": "execute_result"
    }
   ],
   "source": [
    "# input x\n",
    "x = df.iloc[:,1:12]\n",
    "y = df.iloc[:,12:]\n",
    "x.head()"
   ]
  },
  {
   "cell_type": "code",
   "execution_count": 7,
   "id": "281b1357",
   "metadata": {
    "execution": {
     "iopub.execute_input": "2023-09-10T10:58:07.717177Z",
     "iopub.status.busy": "2023-09-10T10:58:07.716852Z",
     "iopub.status.idle": "2023-09-10T10:58:07.724889Z",
     "shell.execute_reply": "2023-09-10T10:58:07.723789Z"
    },
    "papermill": {
     "duration": 0.027346,
     "end_time": "2023-09-10T10:58:07.727031",
     "exception": false,
     "start_time": "2023-09-10T10:58:07.699685",
     "status": "completed"
    },
    "tags": []
   },
   "outputs": [
    {
     "data": {
      "text/plain": [
       "Gender               13\n",
       "Married               3\n",
       "Dependents           15\n",
       "Education             0\n",
       "Self_Employed        32\n",
       "ApplicantIncome       0\n",
       "CoapplicantIncome     0\n",
       "LoanAmount           22\n",
       "Loan_Amount_Term     14\n",
       "Credit_History       50\n",
       "Property_Area         0\n",
       "dtype: int64"
      ]
     },
     "execution_count": 7,
     "metadata": {},
     "output_type": "execute_result"
    }
   ],
   "source": [
    "# now we check null value\n",
    "x.isnull().sum()"
   ]
  },
  {
   "cell_type": "markdown",
   "id": "8467fd16",
   "metadata": {
    "papermill": {
     "duration": 0.016196,
     "end_time": "2023-09-10T10:58:07.759941",
     "exception": false,
     "start_time": "2023-09-10T10:58:07.743745",
     "status": "completed"
    },
    "tags": []
   },
   "source": [
    "# handle int/float null values"
   ]
  },
  {
   "cell_type": "code",
   "execution_count": 8,
   "id": "0664bae3",
   "metadata": {
    "execution": {
     "iopub.execute_input": "2023-09-10T10:58:07.796616Z",
     "iopub.status.busy": "2023-09-10T10:58:07.796303Z",
     "iopub.status.idle": "2023-09-10T10:58:07.806782Z",
     "shell.execute_reply": "2023-09-10T10:58:07.805968Z"
    },
    "papermill": {
     "duration": 0.03116,
     "end_time": "2023-09-10T10:58:07.808823",
     "exception": false,
     "start_time": "2023-09-10T10:58:07.777663",
     "status": "completed"
    },
    "tags": []
   },
   "outputs": [
    {
     "data": {
      "text/plain": [
       "Gender               13\n",
       "Married               3\n",
       "Dependents           15\n",
       "Education             0\n",
       "Self_Employed        32\n",
       "ApplicantIncome       0\n",
       "CoapplicantIncome     0\n",
       "LoanAmount            1\n",
       "Loan_Amount_Term      0\n",
       "Credit_History        0\n",
       "Property_Area         0\n",
       "dtype: int64"
      ]
     },
     "execution_count": 8,
     "metadata": {},
     "output_type": "execute_result"
    }
   ],
   "source": [
    "# Interpolate null values using linear interpolation\n",
    "x = x.interpolate()\n",
    "x.isna().sum()"
   ]
  },
  {
   "cell_type": "markdown",
   "id": "07bc6c0e",
   "metadata": {
    "papermill": {
     "duration": 0.01675,
     "end_time": "2023-09-10T10:58:07.843026",
     "exception": false,
     "start_time": "2023-09-10T10:58:07.826276",
     "status": "completed"
    },
    "tags": []
   },
   "source": [
    "# handle obj null values"
   ]
  },
  {
   "cell_type": "code",
   "execution_count": 9,
   "id": "8cfac241",
   "metadata": {
    "execution": {
     "iopub.execute_input": "2023-09-10T10:58:07.880547Z",
     "iopub.status.busy": "2023-09-10T10:58:07.880193Z",
     "iopub.status.idle": "2023-09-10T10:58:07.888490Z",
     "shell.execute_reply": "2023-09-10T10:58:07.887479Z"
    },
    "papermill": {
     "duration": 0.030276,
     "end_time": "2023-09-10T10:58:07.890665",
     "exception": false,
     "start_time": "2023-09-10T10:58:07.860389",
     "status": "completed"
    },
    "tags": []
   },
   "outputs": [
    {
     "data": {
      "text/plain": [
       "Gender\n",
       "Male      489\n",
       "Female    112\n",
       "Name: count, dtype: int64"
      ]
     },
     "execution_count": 9,
     "metadata": {},
     "output_type": "execute_result"
    }
   ],
   "source": [
    "x['Gender'].value_counts()"
   ]
  },
  {
   "cell_type": "code",
   "execution_count": 10,
   "id": "5e9cb17c",
   "metadata": {
    "execution": {
     "iopub.execute_input": "2023-09-10T10:58:07.975929Z",
     "iopub.status.busy": "2023-09-10T10:58:07.975263Z",
     "iopub.status.idle": "2023-09-10T10:58:07.980751Z",
     "shell.execute_reply": "2023-09-10T10:58:07.980043Z"
    },
    "papermill": {
     "duration": 0.02786,
     "end_time": "2023-09-10T10:58:07.982885",
     "exception": false,
     "start_time": "2023-09-10T10:58:07.955025",
     "status": "completed"
    },
    "tags": []
   },
   "outputs": [],
   "source": [
    "x.Gender = x.Gender.fillna('Male')"
   ]
  },
  {
   "cell_type": "code",
   "execution_count": 11,
   "id": "b3f186ee",
   "metadata": {
    "execution": {
     "iopub.execute_input": "2023-09-10T10:58:08.021556Z",
     "iopub.status.busy": "2023-09-10T10:58:08.020925Z",
     "iopub.status.idle": "2023-09-10T10:58:08.029066Z",
     "shell.execute_reply": "2023-09-10T10:58:08.028179Z"
    },
    "papermill": {
     "duration": 0.030112,
     "end_time": "2023-09-10T10:58:08.031172",
     "exception": false,
     "start_time": "2023-09-10T10:58:08.001060",
     "status": "completed"
    },
    "tags": []
   },
   "outputs": [
    {
     "data": {
      "text/plain": [
       "Married\n",
       "Yes    398\n",
       "No     213\n",
       "Name: count, dtype: int64"
      ]
     },
     "execution_count": 11,
     "metadata": {},
     "output_type": "execute_result"
    }
   ],
   "source": [
    "x['Married'].value_counts()"
   ]
  },
  {
   "cell_type": "code",
   "execution_count": 12,
   "id": "51f08deb",
   "metadata": {
    "execution": {
     "iopub.execute_input": "2023-09-10T10:58:08.071131Z",
     "iopub.status.busy": "2023-09-10T10:58:08.070518Z",
     "iopub.status.idle": "2023-09-10T10:58:08.075833Z",
     "shell.execute_reply": "2023-09-10T10:58:08.075150Z"
    },
    "papermill": {
     "duration": 0.02832,
     "end_time": "2023-09-10T10:58:08.078006",
     "exception": false,
     "start_time": "2023-09-10T10:58:08.049686",
     "status": "completed"
    },
    "tags": []
   },
   "outputs": [],
   "source": [
    "x.Married = x.Married.fillna('Yes')"
   ]
  },
  {
   "cell_type": "code",
   "execution_count": 13,
   "id": "86a0b2e9",
   "metadata": {
    "execution": {
     "iopub.execute_input": "2023-09-10T10:58:08.118878Z",
     "iopub.status.busy": "2023-09-10T10:58:08.118317Z",
     "iopub.status.idle": "2023-09-10T10:58:08.126167Z",
     "shell.execute_reply": "2023-09-10T10:58:08.125258Z"
    },
    "papermill": {
     "duration": 0.030488,
     "end_time": "2023-09-10T10:58:08.128193",
     "exception": false,
     "start_time": "2023-09-10T10:58:08.097705",
     "status": "completed"
    },
    "tags": []
   },
   "outputs": [
    {
     "data": {
      "text/plain": [
       "Dependents\n",
       "0     345\n",
       "1     102\n",
       "2     101\n",
       "3+     51\n",
       "Name: count, dtype: int64"
      ]
     },
     "execution_count": 13,
     "metadata": {},
     "output_type": "execute_result"
    }
   ],
   "source": [
    "x['Dependents'].value_counts()"
   ]
  },
  {
   "cell_type": "code",
   "execution_count": 14,
   "id": "86ff45ef",
   "metadata": {
    "execution": {
     "iopub.execute_input": "2023-09-10T10:58:08.166449Z",
     "iopub.status.busy": "2023-09-10T10:58:08.165851Z",
     "iopub.status.idle": "2023-09-10T10:58:08.171074Z",
     "shell.execute_reply": "2023-09-10T10:58:08.170350Z"
    },
    "papermill": {
     "duration": 0.026386,
     "end_time": "2023-09-10T10:58:08.173247",
     "exception": false,
     "start_time": "2023-09-10T10:58:08.146861",
     "status": "completed"
    },
    "tags": []
   },
   "outputs": [],
   "source": [
    "x.Dependents = x.Dependents.fillna('0')"
   ]
  },
  {
   "cell_type": "code",
   "execution_count": 15,
   "id": "9a41df83",
   "metadata": {
    "execution": {
     "iopub.execute_input": "2023-09-10T10:58:08.212970Z",
     "iopub.status.busy": "2023-09-10T10:58:08.212419Z",
     "iopub.status.idle": "2023-09-10T10:58:08.219926Z",
     "shell.execute_reply": "2023-09-10T10:58:08.219073Z"
    },
    "papermill": {
     "duration": 0.02906,
     "end_time": "2023-09-10T10:58:08.221947",
     "exception": false,
     "start_time": "2023-09-10T10:58:08.192887",
     "status": "completed"
    },
    "tags": []
   },
   "outputs": [
    {
     "data": {
      "text/plain": [
       "Self_Employed\n",
       "No     500\n",
       "Yes     82\n",
       "Name: count, dtype: int64"
      ]
     },
     "execution_count": 15,
     "metadata": {},
     "output_type": "execute_result"
    }
   ],
   "source": [
    "x['Self_Employed'].value_counts()"
   ]
  },
  {
   "cell_type": "code",
   "execution_count": 16,
   "id": "de416c01",
   "metadata": {
    "execution": {
     "iopub.execute_input": "2023-09-10T10:58:08.258886Z",
     "iopub.status.busy": "2023-09-10T10:58:08.258387Z",
     "iopub.status.idle": "2023-09-10T10:58:08.263225Z",
     "shell.execute_reply": "2023-09-10T10:58:08.262554Z"
    },
    "papermill": {
     "duration": 0.025933,
     "end_time": "2023-09-10T10:58:08.265151",
     "exception": false,
     "start_time": "2023-09-10T10:58:08.239218",
     "status": "completed"
    },
    "tags": []
   },
   "outputs": [],
   "source": [
    "x.Self_Employed = x.Self_Employed.fillna('No')"
   ]
  },
  {
   "cell_type": "code",
   "execution_count": 17,
   "id": "3d859d20",
   "metadata": {
    "execution": {
     "iopub.execute_input": "2023-09-10T10:58:08.303689Z",
     "iopub.status.busy": "2023-09-10T10:58:08.303196Z",
     "iopub.status.idle": "2023-09-10T10:58:08.311773Z",
     "shell.execute_reply": "2023-09-10T10:58:08.310974Z"
    },
    "papermill": {
     "duration": 0.029857,
     "end_time": "2023-09-10T10:58:08.313666",
     "exception": false,
     "start_time": "2023-09-10T10:58:08.283809",
     "status": "completed"
    },
    "tags": []
   },
   "outputs": [
    {
     "data": {
      "text/plain": [
       "LoanAmount\n",
       "120.0    21\n",
       "110.0    17\n",
       "100.0    15\n",
       "128.0    12\n",
       "187.0    12\n",
       "         ..\n",
       "47.0      1\n",
       "42.0      1\n",
       "72.0      1\n",
       "240.0     1\n",
       "253.0     1\n",
       "Name: count, Length: 211, dtype: int64"
      ]
     },
     "execution_count": 17,
     "metadata": {},
     "output_type": "execute_result"
    }
   ],
   "source": [
    "x['LoanAmount'].value_counts()"
   ]
  },
  {
   "cell_type": "code",
   "execution_count": 18,
   "id": "1c0e512a",
   "metadata": {
    "execution": {
     "iopub.execute_input": "2023-09-10T10:58:08.350589Z",
     "iopub.status.busy": "2023-09-10T10:58:08.350066Z",
     "iopub.status.idle": "2023-09-10T10:58:08.355044Z",
     "shell.execute_reply": "2023-09-10T10:58:08.354339Z"
    },
    "papermill": {
     "duration": 0.025939,
     "end_time": "2023-09-10T10:58:08.357024",
     "exception": false,
     "start_time": "2023-09-10T10:58:08.331085",
     "status": "completed"
    },
    "tags": []
   },
   "outputs": [],
   "source": [
    "x.LoanAmount = x.LoanAmount.fillna(120)"
   ]
  },
  {
   "cell_type": "code",
   "execution_count": 19,
   "id": "b3f1893e",
   "metadata": {
    "execution": {
     "iopub.execute_input": "2023-09-10T10:58:08.395910Z",
     "iopub.status.busy": "2023-09-10T10:58:08.395295Z",
     "iopub.status.idle": "2023-09-10T10:58:08.404191Z",
     "shell.execute_reply": "2023-09-10T10:58:08.403344Z"
    },
    "papermill": {
     "duration": 0.03076,
     "end_time": "2023-09-10T10:58:08.406388",
     "exception": false,
     "start_time": "2023-09-10T10:58:08.375628",
     "status": "completed"
    },
    "tags": []
   },
   "outputs": [
    {
     "data": {
      "text/plain": [
       "Gender               0\n",
       "Married              0\n",
       "Dependents           0\n",
       "Education            0\n",
       "Self_Employed        0\n",
       "ApplicantIncome      0\n",
       "CoapplicantIncome    0\n",
       "LoanAmount           0\n",
       "Loan_Amount_Term     0\n",
       "Credit_History       0\n",
       "Property_Area        0\n",
       "dtype: int64"
      ]
     },
     "execution_count": 19,
     "metadata": {},
     "output_type": "execute_result"
    }
   ],
   "source": [
    "x.isna().sum()"
   ]
  },
  {
   "cell_type": "markdown",
   "id": "d402552e",
   "metadata": {
    "papermill": {
     "duration": 0.017097,
     "end_time": "2023-09-10T10:58:08.441260",
     "exception": false,
     "start_time": "2023-09-10T10:58:08.424163",
     "status": "completed"
    },
    "tags": []
   },
   "source": [
    "# Label Encoding"
   ]
  },
  {
   "cell_type": "code",
   "execution_count": 20,
   "id": "0ef23628",
   "metadata": {
    "execution": {
     "iopub.execute_input": "2023-09-10T10:58:08.480061Z",
     "iopub.status.busy": "2023-09-10T10:58:08.479754Z",
     "iopub.status.idle": "2023-09-10T10:58:09.365000Z",
     "shell.execute_reply": "2023-09-10T10:58:09.363977Z"
    },
    "papermill": {
     "duration": 0.909176,
     "end_time": "2023-09-10T10:58:09.367611",
     "exception": false,
     "start_time": "2023-09-10T10:58:08.458435",
     "status": "completed"
    },
    "tags": []
   },
   "outputs": [
    {
     "name": "stderr",
     "output_type": "stream",
     "text": [
      "/opt/conda/lib/python3.10/site-packages/sklearn/preprocessing/_label.py:116: DataConversionWarning: A column-vector y was passed when a 1d array was expected. Please change the shape of y to (n_samples, ), for example using ravel().\n",
      "  y = column_or_1d(y, warn=True)\n"
     ]
    }
   ],
   "source": [
    "#there is many string value we need to use encoder for that \n",
    "from sklearn.preprocessing import LabelEncoder \n",
    "# Initialize the LabelEncoder \n",
    "label_encoder = LabelEncoder()  \n",
    "# Fit and transform the categorical column \n",
    "for i in range(0,5):   \n",
    "    x.iloc[:,i] = label_encoder.fit_transform(x.iloc[:,i])  \n",
    "# for last column \n",
    "x.iloc[:,10] = label_encoder.fit_transform(x.iloc[:,10])  \n",
    "# for output \n",
    "y = label_encoder.fit_transform(y)"
   ]
  },
  {
   "cell_type": "code",
   "execution_count": 21,
   "id": "079b39f7",
   "metadata": {
    "execution": {
     "iopub.execute_input": "2023-09-10T10:58:09.407585Z",
     "iopub.status.busy": "2023-09-10T10:58:09.407225Z",
     "iopub.status.idle": "2023-09-10T10:58:09.431347Z",
     "shell.execute_reply": "2023-09-10T10:58:09.430393Z"
    },
    "papermill": {
     "duration": 0.046523,
     "end_time": "2023-09-10T10:58:09.433492",
     "exception": false,
     "start_time": "2023-09-10T10:58:09.386969",
     "status": "completed"
    },
    "tags": []
   },
   "outputs": [
    {
     "data": {
      "text/html": [
       "<div>\n",
       "<style scoped>\n",
       "    .dataframe tbody tr th:only-of-type {\n",
       "        vertical-align: middle;\n",
       "    }\n",
       "\n",
       "    .dataframe tbody tr th {\n",
       "        vertical-align: top;\n",
       "    }\n",
       "\n",
       "    .dataframe thead th {\n",
       "        text-align: right;\n",
       "    }\n",
       "</style>\n",
       "<table border=\"1\" class=\"dataframe\">\n",
       "  <thead>\n",
       "    <tr style=\"text-align: right;\">\n",
       "      <th></th>\n",
       "      <th>Gender</th>\n",
       "      <th>Married</th>\n",
       "      <th>Dependents</th>\n",
       "      <th>Education</th>\n",
       "      <th>Self_Employed</th>\n",
       "      <th>ApplicantIncome</th>\n",
       "      <th>CoapplicantIncome</th>\n",
       "      <th>LoanAmount</th>\n",
       "      <th>Loan_Amount_Term</th>\n",
       "      <th>Credit_History</th>\n",
       "      <th>Property_Area</th>\n",
       "    </tr>\n",
       "  </thead>\n",
       "  <tbody>\n",
       "    <tr>\n",
       "      <th>0</th>\n",
       "      <td>1</td>\n",
       "      <td>0</td>\n",
       "      <td>0</td>\n",
       "      <td>0</td>\n",
       "      <td>0</td>\n",
       "      <td>5849</td>\n",
       "      <td>0.0</td>\n",
       "      <td>120.0</td>\n",
       "      <td>360.0</td>\n",
       "      <td>1.0</td>\n",
       "      <td>2</td>\n",
       "    </tr>\n",
       "    <tr>\n",
       "      <th>1</th>\n",
       "      <td>1</td>\n",
       "      <td>1</td>\n",
       "      <td>1</td>\n",
       "      <td>0</td>\n",
       "      <td>0</td>\n",
       "      <td>4583</td>\n",
       "      <td>1508.0</td>\n",
       "      <td>128.0</td>\n",
       "      <td>360.0</td>\n",
       "      <td>1.0</td>\n",
       "      <td>0</td>\n",
       "    </tr>\n",
       "    <tr>\n",
       "      <th>2</th>\n",
       "      <td>1</td>\n",
       "      <td>1</td>\n",
       "      <td>0</td>\n",
       "      <td>0</td>\n",
       "      <td>1</td>\n",
       "      <td>3000</td>\n",
       "      <td>0.0</td>\n",
       "      <td>66.0</td>\n",
       "      <td>360.0</td>\n",
       "      <td>1.0</td>\n",
       "      <td>2</td>\n",
       "    </tr>\n",
       "    <tr>\n",
       "      <th>3</th>\n",
       "      <td>1</td>\n",
       "      <td>1</td>\n",
       "      <td>0</td>\n",
       "      <td>1</td>\n",
       "      <td>0</td>\n",
       "      <td>2583</td>\n",
       "      <td>2358.0</td>\n",
       "      <td>120.0</td>\n",
       "      <td>360.0</td>\n",
       "      <td>1.0</td>\n",
       "      <td>2</td>\n",
       "    </tr>\n",
       "    <tr>\n",
       "      <th>4</th>\n",
       "      <td>1</td>\n",
       "      <td>0</td>\n",
       "      <td>0</td>\n",
       "      <td>0</td>\n",
       "      <td>0</td>\n",
       "      <td>6000</td>\n",
       "      <td>0.0</td>\n",
       "      <td>141.0</td>\n",
       "      <td>360.0</td>\n",
       "      <td>1.0</td>\n",
       "      <td>2</td>\n",
       "    </tr>\n",
       "    <tr>\n",
       "      <th>...</th>\n",
       "      <td>...</td>\n",
       "      <td>...</td>\n",
       "      <td>...</td>\n",
       "      <td>...</td>\n",
       "      <td>...</td>\n",
       "      <td>...</td>\n",
       "      <td>...</td>\n",
       "      <td>...</td>\n",
       "      <td>...</td>\n",
       "      <td>...</td>\n",
       "      <td>...</td>\n",
       "    </tr>\n",
       "    <tr>\n",
       "      <th>609</th>\n",
       "      <td>0</td>\n",
       "      <td>0</td>\n",
       "      <td>0</td>\n",
       "      <td>0</td>\n",
       "      <td>0</td>\n",
       "      <td>2900</td>\n",
       "      <td>0.0</td>\n",
       "      <td>71.0</td>\n",
       "      <td>360.0</td>\n",
       "      <td>1.0</td>\n",
       "      <td>0</td>\n",
       "    </tr>\n",
       "    <tr>\n",
       "      <th>610</th>\n",
       "      <td>1</td>\n",
       "      <td>1</td>\n",
       "      <td>3</td>\n",
       "      <td>0</td>\n",
       "      <td>0</td>\n",
       "      <td>4106</td>\n",
       "      <td>0.0</td>\n",
       "      <td>40.0</td>\n",
       "      <td>180.0</td>\n",
       "      <td>1.0</td>\n",
       "      <td>0</td>\n",
       "    </tr>\n",
       "    <tr>\n",
       "      <th>611</th>\n",
       "      <td>1</td>\n",
       "      <td>1</td>\n",
       "      <td>1</td>\n",
       "      <td>0</td>\n",
       "      <td>0</td>\n",
       "      <td>8072</td>\n",
       "      <td>240.0</td>\n",
       "      <td>253.0</td>\n",
       "      <td>360.0</td>\n",
       "      <td>1.0</td>\n",
       "      <td>2</td>\n",
       "    </tr>\n",
       "    <tr>\n",
       "      <th>612</th>\n",
       "      <td>1</td>\n",
       "      <td>1</td>\n",
       "      <td>2</td>\n",
       "      <td>0</td>\n",
       "      <td>0</td>\n",
       "      <td>7583</td>\n",
       "      <td>0.0</td>\n",
       "      <td>187.0</td>\n",
       "      <td>360.0</td>\n",
       "      <td>1.0</td>\n",
       "      <td>2</td>\n",
       "    </tr>\n",
       "    <tr>\n",
       "      <th>613</th>\n",
       "      <td>0</td>\n",
       "      <td>0</td>\n",
       "      <td>0</td>\n",
       "      <td>0</td>\n",
       "      <td>1</td>\n",
       "      <td>4583</td>\n",
       "      <td>0.0</td>\n",
       "      <td>133.0</td>\n",
       "      <td>360.0</td>\n",
       "      <td>0.0</td>\n",
       "      <td>1</td>\n",
       "    </tr>\n",
       "  </tbody>\n",
       "</table>\n",
       "<p>614 rows × 11 columns</p>\n",
       "</div>"
      ],
      "text/plain": [
       "    Gender Married Dependents Education Self_Employed  ApplicantIncome  \\\n",
       "0        1       0          0         0             0             5849   \n",
       "1        1       1          1         0             0             4583   \n",
       "2        1       1          0         0             1             3000   \n",
       "3        1       1          0         1             0             2583   \n",
       "4        1       0          0         0             0             6000   \n",
       "..     ...     ...        ...       ...           ...              ...   \n",
       "609      0       0          0         0             0             2900   \n",
       "610      1       1          3         0             0             4106   \n",
       "611      1       1          1         0             0             8072   \n",
       "612      1       1          2         0             0             7583   \n",
       "613      0       0          0         0             1             4583   \n",
       "\n",
       "     CoapplicantIncome  LoanAmount  Loan_Amount_Term  Credit_History  \\\n",
       "0                  0.0       120.0             360.0             1.0   \n",
       "1               1508.0       128.0             360.0             1.0   \n",
       "2                  0.0        66.0             360.0             1.0   \n",
       "3               2358.0       120.0             360.0             1.0   \n",
       "4                  0.0       141.0             360.0             1.0   \n",
       "..                 ...         ...               ...             ...   \n",
       "609                0.0        71.0             360.0             1.0   \n",
       "610                0.0        40.0             180.0             1.0   \n",
       "611              240.0       253.0             360.0             1.0   \n",
       "612                0.0       187.0             360.0             1.0   \n",
       "613                0.0       133.0             360.0             0.0   \n",
       "\n",
       "    Property_Area  \n",
       "0               2  \n",
       "1               0  \n",
       "2               2  \n",
       "3               2  \n",
       "4               2  \n",
       "..            ...  \n",
       "609             0  \n",
       "610             0  \n",
       "611             2  \n",
       "612             2  \n",
       "613             1  \n",
       "\n",
       "[614 rows x 11 columns]"
      ]
     },
     "execution_count": 21,
     "metadata": {},
     "output_type": "execute_result"
    }
   ],
   "source": [
    "x"
   ]
  },
  {
   "cell_type": "markdown",
   "id": "5ec022f2",
   "metadata": {
    "papermill": {
     "duration": 0.019623,
     "end_time": "2023-09-10T10:58:09.471975",
     "exception": false,
     "start_time": "2023-09-10T10:58:09.452352",
     "status": "completed"
    },
    "tags": []
   },
   "source": [
    "# Train Test split"
   ]
  },
  {
   "cell_type": "code",
   "execution_count": 22,
   "id": "5dc006d3",
   "metadata": {
    "execution": {
     "iopub.execute_input": "2023-09-10T10:58:09.511950Z",
     "iopub.status.busy": "2023-09-10T10:58:09.511612Z",
     "iopub.status.idle": "2023-09-10T10:58:09.600159Z",
     "shell.execute_reply": "2023-09-10T10:58:09.599026Z"
    },
    "papermill": {
     "duration": 0.111828,
     "end_time": "2023-09-10T10:58:09.602917",
     "exception": false,
     "start_time": "2023-09-10T10:58:09.491089",
     "status": "completed"
    },
    "tags": []
   },
   "outputs": [],
   "source": [
    "#train and test split\n",
    "from sklearn.model_selection import train_test_split\n",
    "x_train,x_test,y_train, y_test = train_test_split(x,y, test_size=0.25,random_state=0)"
   ]
  },
  {
   "cell_type": "code",
   "execution_count": 23,
   "id": "d338bcd8",
   "metadata": {
    "execution": {
     "iopub.execute_input": "2023-09-10T10:58:09.642599Z",
     "iopub.status.busy": "2023-09-10T10:58:09.642239Z",
     "iopub.status.idle": "2023-09-10T10:58:09.665827Z",
     "shell.execute_reply": "2023-09-10T10:58:09.664772Z"
    },
    "papermill": {
     "duration": 0.045731,
     "end_time": "2023-09-10T10:58:09.668022",
     "exception": false,
     "start_time": "2023-09-10T10:58:09.622291",
     "status": "completed"
    },
    "tags": []
   },
   "outputs": [
    {
     "data": {
      "text/html": [
       "<div>\n",
       "<style scoped>\n",
       "    .dataframe tbody tr th:only-of-type {\n",
       "        vertical-align: middle;\n",
       "    }\n",
       "\n",
       "    .dataframe tbody tr th {\n",
       "        vertical-align: top;\n",
       "    }\n",
       "\n",
       "    .dataframe thead th {\n",
       "        text-align: right;\n",
       "    }\n",
       "</style>\n",
       "<table border=\"1\" class=\"dataframe\">\n",
       "  <thead>\n",
       "    <tr style=\"text-align: right;\">\n",
       "      <th></th>\n",
       "      <th>Gender</th>\n",
       "      <th>Married</th>\n",
       "      <th>Dependents</th>\n",
       "      <th>Education</th>\n",
       "      <th>Self_Employed</th>\n",
       "      <th>ApplicantIncome</th>\n",
       "      <th>CoapplicantIncome</th>\n",
       "      <th>LoanAmount</th>\n",
       "      <th>Loan_Amount_Term</th>\n",
       "      <th>Credit_History</th>\n",
       "      <th>Property_Area</th>\n",
       "    </tr>\n",
       "  </thead>\n",
       "  <tbody>\n",
       "    <tr>\n",
       "      <th>46</th>\n",
       "      <td>1</td>\n",
       "      <td>1</td>\n",
       "      <td>1</td>\n",
       "      <td>0</td>\n",
       "      <td>0</td>\n",
       "      <td>5649</td>\n",
       "      <td>0.0</td>\n",
       "      <td>44.0</td>\n",
       "      <td>360.0</td>\n",
       "      <td>1.0</td>\n",
       "      <td>2</td>\n",
       "    </tr>\n",
       "    <tr>\n",
       "      <th>272</th>\n",
       "      <td>1</td>\n",
       "      <td>0</td>\n",
       "      <td>0</td>\n",
       "      <td>0</td>\n",
       "      <td>0</td>\n",
       "      <td>2833</td>\n",
       "      <td>1857.0</td>\n",
       "      <td>126.0</td>\n",
       "      <td>360.0</td>\n",
       "      <td>1.0</td>\n",
       "      <td>0</td>\n",
       "    </tr>\n",
       "    <tr>\n",
       "      <th>474</th>\n",
       "      <td>1</td>\n",
       "      <td>0</td>\n",
       "      <td>2</td>\n",
       "      <td>0</td>\n",
       "      <td>0</td>\n",
       "      <td>5532</td>\n",
       "      <td>4648.0</td>\n",
       "      <td>162.0</td>\n",
       "      <td>360.0</td>\n",
       "      <td>1.0</td>\n",
       "      <td>0</td>\n",
       "    </tr>\n",
       "    <tr>\n",
       "      <th>382</th>\n",
       "      <td>0</td>\n",
       "      <td>0</td>\n",
       "      <td>0</td>\n",
       "      <td>0</td>\n",
       "      <td>0</td>\n",
       "      <td>6000</td>\n",
       "      <td>0.0</td>\n",
       "      <td>156.0</td>\n",
       "      <td>360.0</td>\n",
       "      <td>1.0</td>\n",
       "      <td>2</td>\n",
       "    </tr>\n",
       "    <tr>\n",
       "      <th>283</th>\n",
       "      <td>0</td>\n",
       "      <td>0</td>\n",
       "      <td>0</td>\n",
       "      <td>0</td>\n",
       "      <td>0</td>\n",
       "      <td>1811</td>\n",
       "      <td>1666.0</td>\n",
       "      <td>54.0</td>\n",
       "      <td>360.0</td>\n",
       "      <td>1.0</td>\n",
       "      <td>2</td>\n",
       "    </tr>\n",
       "    <tr>\n",
       "      <th>...</th>\n",
       "      <td>...</td>\n",
       "      <td>...</td>\n",
       "      <td>...</td>\n",
       "      <td>...</td>\n",
       "      <td>...</td>\n",
       "      <td>...</td>\n",
       "      <td>...</td>\n",
       "      <td>...</td>\n",
       "      <td>...</td>\n",
       "      <td>...</td>\n",
       "      <td>...</td>\n",
       "    </tr>\n",
       "    <tr>\n",
       "      <th>277</th>\n",
       "      <td>1</td>\n",
       "      <td>1</td>\n",
       "      <td>0</td>\n",
       "      <td>0</td>\n",
       "      <td>0</td>\n",
       "      <td>3103</td>\n",
       "      <td>1300.0</td>\n",
       "      <td>80.0</td>\n",
       "      <td>360.0</td>\n",
       "      <td>1.0</td>\n",
       "      <td>2</td>\n",
       "    </tr>\n",
       "    <tr>\n",
       "      <th>9</th>\n",
       "      <td>1</td>\n",
       "      <td>1</td>\n",
       "      <td>1</td>\n",
       "      <td>0</td>\n",
       "      <td>0</td>\n",
       "      <td>12841</td>\n",
       "      <td>10968.0</td>\n",
       "      <td>349.0</td>\n",
       "      <td>360.0</td>\n",
       "      <td>1.0</td>\n",
       "      <td>1</td>\n",
       "    </tr>\n",
       "    <tr>\n",
       "      <th>359</th>\n",
       "      <td>1</td>\n",
       "      <td>1</td>\n",
       "      <td>3</td>\n",
       "      <td>0</td>\n",
       "      <td>0</td>\n",
       "      <td>5167</td>\n",
       "      <td>3167.0</td>\n",
       "      <td>200.0</td>\n",
       "      <td>360.0</td>\n",
       "      <td>1.0</td>\n",
       "      <td>1</td>\n",
       "    </tr>\n",
       "    <tr>\n",
       "      <th>192</th>\n",
       "      <td>1</td>\n",
       "      <td>1</td>\n",
       "      <td>0</td>\n",
       "      <td>1</td>\n",
       "      <td>0</td>\n",
       "      <td>6033</td>\n",
       "      <td>0.0</td>\n",
       "      <td>160.0</td>\n",
       "      <td>360.0</td>\n",
       "      <td>1.0</td>\n",
       "      <td>2</td>\n",
       "    </tr>\n",
       "    <tr>\n",
       "      <th>559</th>\n",
       "      <td>0</td>\n",
       "      <td>1</td>\n",
       "      <td>0</td>\n",
       "      <td>0</td>\n",
       "      <td>0</td>\n",
       "      <td>4180</td>\n",
       "      <td>2306.0</td>\n",
       "      <td>182.0</td>\n",
       "      <td>360.0</td>\n",
       "      <td>1.0</td>\n",
       "      <td>1</td>\n",
       "    </tr>\n",
       "  </tbody>\n",
       "</table>\n",
       "<p>460 rows × 11 columns</p>\n",
       "</div>"
      ],
      "text/plain": [
       "    Gender Married Dependents Education Self_Employed  ApplicantIncome  \\\n",
       "46       1       1          1         0             0             5649   \n",
       "272      1       0          0         0             0             2833   \n",
       "474      1       0          2         0             0             5532   \n",
       "382      0       0          0         0             0             6000   \n",
       "283      0       0          0         0             0             1811   \n",
       "..     ...     ...        ...       ...           ...              ...   \n",
       "277      1       1          0         0             0             3103   \n",
       "9        1       1          1         0             0            12841   \n",
       "359      1       1          3         0             0             5167   \n",
       "192      1       1          0         1             0             6033   \n",
       "559      0       1          0         0             0             4180   \n",
       "\n",
       "     CoapplicantIncome  LoanAmount  Loan_Amount_Term  Credit_History  \\\n",
       "46                 0.0        44.0             360.0             1.0   \n",
       "272             1857.0       126.0             360.0             1.0   \n",
       "474             4648.0       162.0             360.0             1.0   \n",
       "382                0.0       156.0             360.0             1.0   \n",
       "283             1666.0        54.0             360.0             1.0   \n",
       "..                 ...         ...               ...             ...   \n",
       "277             1300.0        80.0             360.0             1.0   \n",
       "9              10968.0       349.0             360.0             1.0   \n",
       "359             3167.0       200.0             360.0             1.0   \n",
       "192                0.0       160.0             360.0             1.0   \n",
       "559             2306.0       182.0             360.0             1.0   \n",
       "\n",
       "    Property_Area  \n",
       "46              2  \n",
       "272             0  \n",
       "474             0  \n",
       "382             2  \n",
       "283             2  \n",
       "..            ...  \n",
       "277             2  \n",
       "9               1  \n",
       "359             1  \n",
       "192             2  \n",
       "559             1  \n",
       "\n",
       "[460 rows x 11 columns]"
      ]
     },
     "execution_count": 23,
     "metadata": {},
     "output_type": "execute_result"
    }
   ],
   "source": [
    "x_train"
   ]
  },
  {
   "cell_type": "markdown",
   "id": "491773a3",
   "metadata": {
    "papermill": {
     "duration": 0.019275,
     "end_time": "2023-09-10T10:58:09.707026",
     "exception": false,
     "start_time": "2023-09-10T10:58:09.687751",
     "status": "completed"
    },
    "tags": []
   },
   "source": [
    "# Scaling"
   ]
  },
  {
   "cell_type": "code",
   "execution_count": 24,
   "id": "c41f83a3",
   "metadata": {
    "execution": {
     "iopub.execute_input": "2023-09-10T10:58:09.746649Z",
     "iopub.status.busy": "2023-09-10T10:58:09.746042Z",
     "iopub.status.idle": "2023-09-10T10:58:09.760716Z",
     "shell.execute_reply": "2023-09-10T10:58:09.760006Z"
    },
    "papermill": {
     "duration": 0.03662,
     "end_time": "2023-09-10T10:58:09.762808",
     "exception": false,
     "start_time": "2023-09-10T10:58:09.726188",
     "status": "completed"
    },
    "tags": []
   },
   "outputs": [],
   "source": [
    "from sklearn.preprocessing import StandardScaler\n",
    "sc = StandardScaler()\n",
    "x_train = sc.fit_transform(x_train)\n",
    "x_test = sc.fit_transform(x_test)"
   ]
  },
  {
   "cell_type": "code",
   "execution_count": 25,
   "id": "67beb5a5",
   "metadata": {
    "execution": {
     "iopub.execute_input": "2023-09-10T10:58:09.802471Z",
     "iopub.status.busy": "2023-09-10T10:58:09.802167Z",
     "iopub.status.idle": "2023-09-10T10:58:09.808558Z",
     "shell.execute_reply": "2023-09-10T10:58:09.807595Z"
    },
    "papermill": {
     "duration": 0.029027,
     "end_time": "2023-09-10T10:58:09.810537",
     "exception": false,
     "start_time": "2023-09-10T10:58:09.781510",
     "status": "completed"
    },
    "tags": []
   },
   "outputs": [
    {
     "data": {
      "text/plain": [
       "array([[ 0.46575875,  0.69217027,  0.20631248, ...,  0.28426147,\n",
       "         0.45022066,  1.20186498],\n",
       "       [ 0.46575875, -1.44473123, -0.77207659, ...,  0.28426147,\n",
       "         0.45022066, -1.31684978],\n",
       "       [ 0.46575875, -1.44473123,  1.18470154, ...,  0.28426147,\n",
       "         0.45022066, -1.31684978],\n",
       "       ...,\n",
       "       [ 0.46575875,  0.69217027,  2.1630906 , ...,  0.28426147,\n",
       "         0.45022066, -0.0574924 ],\n",
       "       [ 0.46575875,  0.69217027, -0.77207659, ...,  0.28426147,\n",
       "         0.45022066,  1.20186498],\n",
       "       [-2.14703426,  0.69217027, -0.77207659, ...,  0.28426147,\n",
       "         0.45022066, -0.0574924 ]])"
      ]
     },
     "execution_count": 25,
     "metadata": {},
     "output_type": "execute_result"
    }
   ],
   "source": [
    "x_train"
   ]
  },
  {
   "cell_type": "markdown",
   "id": "96f901ea",
   "metadata": {
    "papermill": {
     "duration": 0.018271,
     "end_time": "2023-09-10T10:58:09.846778",
     "exception": false,
     "start_time": "2023-09-10T10:58:09.828507",
     "status": "completed"
    },
    "tags": []
   },
   "source": [
    "# Logistic Regression"
   ]
  },
  {
   "cell_type": "code",
   "execution_count": 26,
   "id": "2d4f5ad0",
   "metadata": {
    "execution": {
     "iopub.execute_input": "2023-09-10T10:58:09.887362Z",
     "iopub.status.busy": "2023-09-10T10:58:09.886978Z",
     "iopub.status.idle": "2023-09-10T10:58:10.038476Z",
     "shell.execute_reply": "2023-09-10T10:58:10.037502Z"
    },
    "papermill": {
     "duration": 0.174764,
     "end_time": "2023-09-10T10:58:10.040760",
     "exception": false,
     "start_time": "2023-09-10T10:58:09.865996",
     "status": "completed"
    },
    "tags": []
   },
   "outputs": [
    {
     "data": {
      "text/plain": [
       "array([1, 1, 1, 1, 1, 0, 1, 1, 0, 1, 1, 1, 1, 1, 1, 1, 0, 1, 1, 0, 0, 1,\n",
       "       1, 1, 0, 1, 1, 1, 0, 0, 1, 1, 1, 1, 1, 0, 1, 1, 1, 1, 1, 0, 1, 1,\n",
       "       1, 1, 1, 1, 1, 1, 1, 1, 1, 1, 1, 1, 1, 1, 1, 1, 0, 1, 1, 0, 1, 1,\n",
       "       1, 1, 1, 1, 0, 1, 1, 1, 1, 1, 0, 1, 1, 0, 1, 1, 1, 1, 1, 1, 1, 1,\n",
       "       1, 1, 1, 1, 1, 0, 1, 0, 1, 1, 1, 1, 1, 1, 1, 1, 1, 1, 1, 1, 1, 1,\n",
       "       1, 1, 1, 1, 0, 0, 1, 1, 1, 1, 1, 0, 1, 1, 0, 0, 1, 1, 1, 1, 1, 1,\n",
       "       1, 1, 1, 1, 1, 1, 1, 1, 0, 1, 0, 1, 1, 1, 1, 1, 0, 0, 1, 1, 1, 0])"
      ]
     },
     "execution_count": 26,
     "metadata": {},
     "output_type": "execute_result"
    }
   ],
   "source": [
    "#Fitting Logistic Regression to the training set  \n",
    "from sklearn.linear_model import LogisticRegression\n",
    "lr = LogisticRegression(max_iter=1000,random_state=12)\n",
    "lr.fit(x_train,y_train)\n",
    "\n",
    "#Predicting the test set result  \n",
    "y_pred = lr.predict(x_test)\n",
    "y_pred"
   ]
  },
  {
   "cell_type": "code",
   "execution_count": 27,
   "id": "3d95a9ef",
   "metadata": {
    "execution": {
     "iopub.execute_input": "2023-09-10T10:58:10.081612Z",
     "iopub.status.busy": "2023-09-10T10:58:10.081277Z",
     "iopub.status.idle": "2023-09-10T10:58:10.090393Z",
     "shell.execute_reply": "2023-09-10T10:58:10.089622Z"
    },
    "papermill": {
     "duration": 0.0319,
     "end_time": "2023-09-10T10:58:10.092377",
     "exception": false,
     "start_time": "2023-09-10T10:58:10.060477",
     "status": "completed"
    },
    "tags": []
   },
   "outputs": [
    {
     "data": {
      "text/plain": [
       "(array([[ 23,  20],\n",
       "        [  4, 107]]),\n",
       " 0.8441558441558441)"
      ]
     },
     "execution_count": 27,
     "metadata": {},
     "output_type": "execute_result"
    }
   ],
   "source": [
    "#Creating the Confusion matrix \n",
    "from sklearn.metrics import confusion_matrix, accuracy_score\n",
    "cm = confusion_matrix(y_test, y_pred)\n",
    "acs = accuracy_score(y_test, y_pred)\n",
    "cm, acs"
   ]
  },
  {
   "cell_type": "code",
   "execution_count": 28,
   "id": "08c68aa7",
   "metadata": {
    "execution": {
     "iopub.execute_input": "2023-09-10T10:58:10.132338Z",
     "iopub.status.busy": "2023-09-10T10:58:10.131977Z",
     "iopub.status.idle": "2023-09-10T10:58:10.804001Z",
     "shell.execute_reply": "2023-09-10T10:58:10.802889Z"
    },
    "papermill": {
     "duration": 0.694967,
     "end_time": "2023-09-10T10:58:10.806458",
     "exception": false,
     "start_time": "2023-09-10T10:58:10.111491",
     "status": "completed"
    },
    "tags": []
   },
   "outputs": [
    {
     "data": {
      "image/png": "[encoded data removed]",
      "text/plain": [
       "<Figure size 640x480 with 2 Axes>"
      ]
     },
     "metadata": {},
     "output_type": "display_data"
    }
   ],
   "source": [
    "# Confusion matrix graph using seaborn\n",
    "import seaborn as sns\n",
    "sns.heatmap(cm, annot=True, fmt='.2f', cmap='coolwarm') \n",
    "plt.xlabel('Predicted')\n",
    "plt.ylabel('True')\n",
    "plt.title('Confusion Matrix')\n",
    "plt.show()"
   ]
  },
  {
   "cell_type": "markdown",
   "id": "1e51f540",
   "metadata": {
    "papermill": {
     "duration": 0.020817,
     "end_time": "2023-09-10T10:58:10.848453",
     "exception": false,
     "start_time": "2023-09-10T10:58:10.827636",
     "status": "completed"
    },
    "tags": []
   },
   "source": [
    "# Decision Tree"
   ]
  },
  {
   "cell_type": "code",
   "execution_count": 29,
   "id": "837d0595",
   "metadata": {
    "execution": {
     "iopub.execute_input": "2023-09-10T10:58:10.892887Z",
     "iopub.status.busy": "2023-09-10T10:58:10.892515Z",
     "iopub.status.idle": "2023-09-10T10:58:11.032618Z",
     "shell.execute_reply": "2023-09-10T10:58:11.031604Z"
    },
    "papermill": {
     "duration": 0.164923,
     "end_time": "2023-09-10T10:58:11.034809",
     "exception": false,
     "start_time": "2023-09-10T10:58:10.869886",
     "status": "completed"
    },
    "tags": []
   },
   "outputs": [
    {
     "data": {
      "text/plain": [
       "array([1, 1, 0, 1, 1, 0, 1, 1, 0, 1, 1, 1, 1, 1, 1, 1, 0, 0, 0, 0, 0, 0,\n",
       "       1, 1, 0, 1, 0, 1, 0, 0, 1, 0, 1, 1, 1, 0, 1, 1, 1, 1, 1, 0, 1, 1,\n",
       "       1, 1, 1, 1, 0, 1, 0, 1, 0, 0, 1, 0, 1, 0, 1, 1, 0, 1, 0, 0, 1, 1,\n",
       "       1, 0, 1, 0, 1, 0, 1, 0, 1, 1, 0, 1, 1, 0, 1, 1, 1, 1, 1, 0, 1, 0,\n",
       "       1, 1, 0, 1, 0, 0, 0, 0, 0, 0, 1, 1, 0, 0, 0, 0, 0, 1, 0, 0, 0, 0,\n",
       "       1, 1, 1, 1, 0, 0, 1, 0, 0, 0, 1, 1, 0, 1, 1, 0, 1, 1, 1, 1, 0, 1,\n",
       "       0, 1, 1, 1, 1, 1, 0, 1, 1, 1, 0, 1, 1, 0, 1, 1, 0, 0, 1, 1, 1, 0])"
      ]
     },
     "execution_count": 29,
     "metadata": {},
     "output_type": "execute_result"
    }
   ],
   "source": [
    "#import decision tree \n",
    "from sklearn.tree import DecisionTreeClassifier\n",
    "dtc = DecisionTreeClassifier(random_state=0)\n",
    "dtc.fit(x_train, y_train)\n",
    "\n",
    "#Predicting the test set result  \n",
    "y_pred_dtc = dtc.predict(x_test)\n",
    "y_pred_dtc"
   ]
  },
  {
   "cell_type": "code",
   "execution_count": 30,
   "id": "1a51b75b",
   "metadata": {
    "execution": {
     "iopub.execute_input": "2023-09-10T10:58:11.078026Z",
     "iopub.status.busy": "2023-09-10T10:58:11.077667Z",
     "iopub.status.idle": "2023-09-10T10:58:11.086668Z",
     "shell.execute_reply": "2023-09-10T10:58:11.085628Z"
    },
    "papermill": {
     "duration": 0.033736,
     "end_time": "2023-09-10T10:58:11.088657",
     "exception": false,
     "start_time": "2023-09-10T10:58:11.054921",
     "status": "completed"
    },
    "tags": []
   },
   "outputs": [
    {
     "data": {
      "text/plain": [
       "(array([[27, 16],\n",
       "        [37, 74]]),\n",
       " 0.6558441558441559)"
      ]
     },
     "execution_count": 30,
     "metadata": {},
     "output_type": "execute_result"
    }
   ],
   "source": [
    "cm = confusion_matrix(y_test, y_pred_dtc)\n",
    "acs = accuracy_score(y_test, y_pred_dtc)\n",
    "cm, acs"
   ]
  },
  {
   "cell_type": "code",
   "execution_count": 31,
   "id": "3ccfc82e",
   "metadata": {
    "execution": {
     "iopub.execute_input": "2023-09-10T10:58:11.131167Z",
     "iopub.status.busy": "2023-09-10T10:58:11.130811Z",
     "iopub.status.idle": "2023-09-10T10:58:11.399800Z",
     "shell.execute_reply": "2023-09-10T10:58:11.398800Z"
    },
    "papermill": {
     "duration": 0.293335,
     "end_time": "2023-09-10T10:58:11.402113",
     "exception": false,
     "start_time": "2023-09-10T10:58:11.108778",
     "status": "completed"
    },
    "tags": []
   },
   "outputs": [
    {
     "data": {
      "image/png": "[encoded data removed]",
      "text/plain": [
       "<Figure size 640x480 with 2 Axes>"
      ]
     },
     "metadata": {},
     "output_type": "display_data"
    }
   ],
   "source": [
    "sns.heatmap(cm, annot=True, fmt='.2f', cmap='viridis') \n",
    "plt.xlabel('Predicted')\n",
    "plt.ylabel('True')\n",
    "plt.title('Confusion Matrix')\n",
    "plt.show()"
   ]
  },
  {
   "cell_type": "markdown",
   "id": "d3508756",
   "metadata": {
    "papermill": {
     "duration": 0.021137,
     "end_time": "2023-09-10T10:58:11.444469",
     "exception": false,
     "start_time": "2023-09-10T10:58:11.423332",
     "status": "completed"
    },
    "tags": []
   },
   "source": [
    "# Random Forest"
   ]
  },
  {
   "cell_type": "code",
   "execution_count": 32,
   "id": "482f0e53",
   "metadata": {
    "execution": {
     "iopub.execute_input": "2023-09-10T10:58:11.487989Z",
     "iopub.status.busy": "2023-09-10T10:58:11.487609Z",
     "iopub.status.idle": "2023-09-10T10:58:11.621566Z",
     "shell.execute_reply": "2023-09-10T10:58:11.620608Z"
    },
    "papermill": {
     "duration": 0.158403,
     "end_time": "2023-09-10T10:58:11.623830",
     "exception": false,
     "start_time": "2023-09-10T10:58:11.465427",
     "status": "completed"
    },
    "tags": []
   },
   "outputs": [
    {
     "data": {
      "text/plain": [
       "array([1, 1, 0, 0, 1, 0, 1, 0, 0, 1, 0, 1, 1, 1, 1, 1, 0, 1, 0, 0, 0, 1,\n",
       "       1, 1, 0, 1, 0, 1, 0, 0, 1, 0, 1, 1, 1, 0, 1, 1, 1, 1, 1, 0, 1, 0,\n",
       "       1, 1, 1, 1, 1, 1, 1, 1, 1, 0, 0, 0, 1, 0, 1, 1, 0, 1, 1, 0, 1, 1,\n",
       "       1, 1, 1, 1, 0, 1, 0, 1, 1, 1, 1, 1, 1, 0, 0, 1, 1, 1, 1, 1, 1, 1,\n",
       "       1, 1, 1, 1, 1, 0, 0, 0, 1, 1, 1, 1, 0, 1, 1, 1, 1, 1, 1, 1, 1, 1,\n",
       "       1, 1, 1, 1, 0, 0, 1, 1, 1, 1, 1, 0, 1, 1, 1, 0, 1, 1, 1, 1, 0, 1,\n",
       "       1, 0, 1, 1, 1, 1, 0, 1, 1, 1, 0, 1, 1, 0, 1, 0, 0, 0, 1, 1, 1, 0])"
      ]
     },
     "execution_count": 32,
     "metadata": {},
     "output_type": "execute_result"
    }
   ],
   "source": [
    "# Fitting Decision Tree classifier to the training set \n",
    "from sklearn.ensemble import RandomForestClassifier\n",
    "rfc= RandomForestClassifier(n_estimators= 10, criterion=\"entropy\")  \n",
    "rfc.fit(x_train, y_train) \n",
    "\n",
    "y_pred_rfc = rfc.predict(x_test)\n",
    "y_pred_rfc"
   ]
  },
  {
   "cell_type": "code",
   "execution_count": 33,
   "id": "f6ba1b21",
   "metadata": {
    "execution": {
     "iopub.execute_input": "2023-09-10T10:58:11.666917Z",
     "iopub.status.busy": "2023-09-10T10:58:11.666619Z",
     "iopub.status.idle": "2023-09-10T10:58:11.675660Z",
     "shell.execute_reply": "2023-09-10T10:58:11.674357Z"
    },
    "papermill": {
     "duration": 0.032817,
     "end_time": "2023-09-10T10:58:11.677871",
     "exception": false,
     "start_time": "2023-09-10T10:58:11.645054",
     "status": "completed"
    },
    "tags": []
   },
   "outputs": [
    {
     "data": {
      "text/plain": [
       "(array([[25, 18],\n",
       "        [20, 91]]),\n",
       " 0.7532467532467533)"
      ]
     },
     "execution_count": 33,
     "metadata": {},
     "output_type": "execute_result"
    }
   ],
   "source": [
    "cm = confusion_matrix(y_test, y_pred_rfc)\n",
    "acs = accuracy_score(y_test, y_pred_rfc)\n",
    "cm, acs"
   ]
  },
  {
   "cell_type": "code",
   "execution_count": 34,
   "id": "ac7baea6",
   "metadata": {
    "execution": {
     "iopub.execute_input": "2023-09-10T10:58:11.720332Z",
     "iopub.status.busy": "2023-09-10T10:58:11.719496Z",
     "iopub.status.idle": "2023-09-10T10:58:11.996961Z",
     "shell.execute_reply": "2023-09-10T10:58:11.996047Z"
    },
    "papermill": {
     "duration": 0.300759,
     "end_time": "2023-09-10T10:58:11.999172",
     "exception": false,
     "start_time": "2023-09-10T10:58:11.698413",
     "status": "completed"
    },
    "tags": []
   },
   "outputs": [
    {
     "data": {
      "image/png": "[encoded data removed]",
      "text/plain": [
       "<Figure size 640x480 with 2 Axes>"
      ]
     },
     "metadata": {},
     "output_type": "display_data"
    }
   ],
   "source": [
    "sns.heatmap(cm, annot=True, fmt='.2f', cmap='cividis') \n",
    "plt.xlabel('Predicted')\n",
    "plt.ylabel('True')\n",
    "plt.title('Confusion Matrix')\n",
    "plt.show()"
   ]
  },
  {
   "cell_type": "markdown",
   "id": "efb49ca9",
   "metadata": {
    "papermill": {
     "duration": 0.022918,
     "end_time": "2023-09-10T10:58:12.044479",
     "exception": false,
     "start_time": "2023-09-10T10:58:12.021561",
     "status": "completed"
    },
    "tags": []
   },
   "source": [
    "# Naive Bayes"
   ]
  },
  {
   "cell_type": "code",
   "execution_count": 35,
   "id": "aeff2cb3",
   "metadata": {
    "execution": {
     "iopub.execute_input": "2023-09-10T10:58:12.088869Z",
     "iopub.status.busy": "2023-09-10T10:58:12.088489Z",
     "iopub.status.idle": "2023-09-10T10:58:12.105933Z",
     "shell.execute_reply": "2023-09-10T10:58:12.104948Z"
    },
    "papermill": {
     "duration": 0.042057,
     "end_time": "2023-09-10T10:58:12.107986",
     "exception": false,
     "start_time": "2023-09-10T10:58:12.065929",
     "status": "completed"
    },
    "tags": []
   },
   "outputs": [
    {
     "data": {
      "text/plain": [
       "array([1, 1, 1, 1, 1, 0, 1, 1, 0, 1, 1, 1, 1, 1, 1, 1, 0, 1, 1, 0, 0, 1,\n",
       "       1, 1, 0, 1, 1, 1, 0, 0, 1, 1, 1, 1, 1, 0, 1, 1, 1, 1, 1, 0, 1, 1,\n",
       "       1, 1, 1, 1, 1, 1, 1, 1, 1, 1, 1, 1, 1, 1, 1, 1, 0, 1, 1, 0, 1, 1,\n",
       "       1, 1, 1, 1, 0, 1, 1, 1, 1, 1, 0, 1, 1, 0, 1, 1, 1, 1, 1, 1, 1, 0,\n",
       "       1, 1, 1, 1, 1, 0, 1, 0, 1, 1, 1, 1, 1, 1, 1, 1, 1, 1, 1, 1, 1, 1,\n",
       "       1, 1, 1, 1, 0, 0, 1, 1, 1, 1, 1, 0, 1, 1, 0, 0, 1, 1, 1, 1, 1, 1,\n",
       "       1, 1, 1, 1, 1, 1, 1, 1, 0, 1, 0, 1, 1, 1, 1, 0, 0, 0, 1, 1, 1, 0])"
      ]
     },
     "execution_count": 35,
     "metadata": {},
     "output_type": "execute_result"
    }
   ],
   "source": [
    "# Fitting Naive Bayes to the Training set  \n",
    "from sklearn.naive_bayes import GaussianNB  \n",
    "nb = GaussianNB()  \n",
    "nb.fit(x_train, y_train)\n",
    "\n",
    "y_pred_nb = nb.predict(x_test)\n",
    "y_pred_nb"
   ]
  },
  {
   "cell_type": "code",
   "execution_count": 36,
   "id": "0f7705e1",
   "metadata": {
    "execution": {
     "iopub.execute_input": "2023-09-10T10:58:12.153368Z",
     "iopub.status.busy": "2023-09-10T10:58:12.153008Z",
     "iopub.status.idle": "2023-09-10T10:58:12.161361Z",
     "shell.execute_reply": "2023-09-10T10:58:12.160597Z"
    },
    "papermill": {
     "duration": 0.033352,
     "end_time": "2023-09-10T10:58:12.163437",
     "exception": false,
     "start_time": "2023-09-10T10:58:12.130085",
     "status": "completed"
    },
    "tags": []
   },
   "outputs": [
    {
     "data": {
      "text/plain": [
       "(array([[ 23,  20],\n",
       "        [  6, 105]]),\n",
       " 0.8311688311688312)"
      ]
     },
     "execution_count": 36,
     "metadata": {},
     "output_type": "execute_result"
    }
   ],
   "source": [
    "cm = confusion_matrix(y_test, y_pred_nb)\n",
    "acs = accuracy_score(y_test, y_pred_nb)\n",
    "cm, acs"
   ]
  },
  {
   "cell_type": "code",
   "execution_count": 37,
   "id": "206bdfe7",
   "metadata": {
    "execution": {
     "iopub.execute_input": "2023-09-10T10:58:12.208571Z",
     "iopub.status.busy": "2023-09-10T10:58:12.207675Z",
     "iopub.status.idle": "2023-09-10T10:58:12.476113Z",
     "shell.execute_reply": "2023-09-10T10:58:12.475034Z"
    },
    "papermill": {
     "duration": 0.293373,
     "end_time": "2023-09-10T10:58:12.478432",
     "exception": false,
     "start_time": "2023-09-10T10:58:12.185059",
     "status": "completed"
    },
    "tags": []
   },
   "outputs": [
    {
     "data": {
      "image/png": "[encoded data removed]",
      "text/plain": [
       "<Figure size 640x480 with 2 Axes>"
      ]
     },
     "metadata": {},
     "output_type": "display_data"
    }
   ],
   "source": [
    "sns.heatmap(cm, annot=True, fmt='.2f', cmap='plasma') \n",
    "plt.xlabel('Predicted')\n",
    "plt.ylabel('True')\n",
    "plt.title('Confusion Matrix')\n",
    "plt.show()"
   ]
  },
  {
   "cell_type": "markdown",
   "id": "763dfb52",
   "metadata": {
    "papermill": {
     "duration": 0.025572,
     "end_time": "2023-09-10T10:58:12.528229",
     "exception": false,
     "start_time": "2023-09-10T10:58:12.502657",
     "status": "completed"
    },
    "tags": []
   },
   "source": [
    "# K-Nearest Neighbor(KNN)"
   ]
  },
  {
   "cell_type": "code",
   "execution_count": 38,
   "id": "c1780b96",
   "metadata": {
    "execution": {
     "iopub.execute_input": "2023-09-10T10:58:12.581300Z",
     "iopub.status.busy": "2023-09-10T10:58:12.580329Z",
     "iopub.status.idle": "2023-09-10T10:58:12.602067Z",
     "shell.execute_reply": "2023-09-10T10:58:12.601304Z"
    },
    "papermill": {
     "duration": 0.047091,
     "end_time": "2023-09-10T10:58:12.604081",
     "exception": false,
     "start_time": "2023-09-10T10:58:12.556990",
     "status": "completed"
    },
    "tags": []
   },
   "outputs": [
    {
     "data": {
      "text/plain": [
       "array([1, 1, 0, 1, 1, 0, 1, 0, 0, 1, 1, 1, 1, 1, 1, 1, 0, 1, 1, 0, 0, 1,\n",
       "       1, 1, 0, 1, 1, 1, 0, 0, 1, 1, 1, 1, 1, 0, 1, 1, 1, 1, 1, 0, 1, 1,\n",
       "       1, 1, 1, 1, 1, 1, 1, 1, 1, 1, 1, 1, 1, 1, 1, 1, 0, 1, 1, 0, 1, 1,\n",
       "       1, 1, 1, 1, 1, 1, 1, 1, 1, 1, 0, 1, 0, 0, 1, 1, 1, 1, 1, 1, 1, 1,\n",
       "       1, 1, 1, 1, 1, 0, 1, 1, 1, 1, 1, 1, 1, 1, 1, 1, 1, 1, 0, 1, 1, 1,\n",
       "       1, 1, 1, 1, 0, 0, 1, 1, 1, 1, 1, 0, 1, 1, 0, 0, 1, 1, 1, 1, 1, 1,\n",
       "       1, 1, 1, 1, 1, 1, 1, 1, 1, 1, 0, 1, 1, 0, 1, 0, 0, 0, 1, 1, 1, 0])"
      ]
     },
     "execution_count": 38,
     "metadata": {},
     "output_type": "execute_result"
    }
   ],
   "source": [
    "#Fitting K-NN classifier to the training set  \n",
    "from sklearn.neighbors import KNeighborsClassifier  \n",
    "knn= KNeighborsClassifier(n_neighbors=5, metric='minkowski', p=2 )  \n",
    "knn.fit(x_train, y_train) \n",
    "\n",
    "y_pred_knn = knn.predict(x_test)\n",
    "y_pred_knn"
   ]
  },
  {
   "cell_type": "code",
   "execution_count": 39,
   "id": "c88a93fc",
   "metadata": {
    "execution": {
     "iopub.execute_input": "2023-09-10T10:58:12.651287Z",
     "iopub.status.busy": "2023-09-10T10:58:12.650863Z",
     "iopub.status.idle": "2023-09-10T10:58:12.660505Z",
     "shell.execute_reply": "2023-09-10T10:58:12.659531Z"
    },
    "papermill": {
     "duration": 0.036105,
     "end_time": "2023-09-10T10:58:12.662902",
     "exception": false,
     "start_time": "2023-09-10T10:58:12.626797",
     "status": "completed"
    },
    "tags": []
   },
   "outputs": [
    {
     "data": {
      "text/plain": [
       "(array([[ 22,  21],\n",
       "        [  8, 103]]),\n",
       " 0.8116883116883117)"
      ]
     },
     "execution_count": 39,
     "metadata": {},
     "output_type": "execute_result"
    }
   ],
   "source": [
    "cm = confusion_matrix(y_test, y_pred_knn)\n",
    "acs = accuracy_score(y_test, y_pred_knn)\n",
    "cm, acs"
   ]
  },
  {
   "cell_type": "code",
   "execution_count": 40,
   "id": "1bf30b90",
   "metadata": {
    "execution": {
     "iopub.execute_input": "2023-09-10T10:58:12.712809Z",
     "iopub.status.busy": "2023-09-10T10:58:12.712437Z",
     "iopub.status.idle": "2023-09-10T10:58:12.996158Z",
     "shell.execute_reply": "2023-09-10T10:58:12.994991Z"
    },
    "papermill": {
     "duration": 0.310992,
     "end_time": "2023-09-10T10:58:12.998256",
     "exception": false,
     "start_time": "2023-09-10T10:58:12.687264",
     "status": "completed"
    },
    "tags": []
   },
   "outputs": [
    {
     "data": {
      "image/png": "[encoded data removed]",
      "text/plain": [
       "<Figure size 640x480 with 2 Axes>"
      ]
     },
     "metadata": {},
     "output_type": "display_data"
    }
   ],
   "source": [
    "sns.heatmap(cm, annot=True, fmt='.2f', cmap='inferno') \n",
    "plt.xlabel('Predicted')\n",
    "plt.ylabel('True')\n",
    "plt.title('Confusion Matrix')\n",
    "plt.show()"
   ]
  },
  {
   "cell_type": "markdown",
   "id": "6215fa1f",
   "metadata": {
    "papermill": {
     "duration": 0.02317,
     "end_time": "2023-09-10T10:58:13.044942",
     "exception": false,
     "start_time": "2023-09-10T10:58:13.021772",
     "status": "completed"
    },
    "tags": []
   },
   "source": [
    "# Support Vector Machine(svm)"
   ]
  },
  {
   "cell_type": "code",
   "execution_count": 41,
   "id": "7bb6bbeb",
   "metadata": {
    "execution": {
     "iopub.execute_input": "2023-09-10T10:58:13.091327Z",
     "iopub.status.busy": "2023-09-10T10:58:13.090960Z",
     "iopub.status.idle": "2023-09-10T10:58:13.107552Z",
     "shell.execute_reply": "2023-09-10T10:58:13.106925Z"
    },
    "papermill": {
     "duration": 0.041594,
     "end_time": "2023-09-10T10:58:13.109251",
     "exception": false,
     "start_time": "2023-09-10T10:58:13.067657",
     "status": "completed"
    },
    "tags": []
   },
   "outputs": [
    {
     "data": {
      "text/plain": [
       "array([1, 1, 1, 1, 1, 0, 1, 1, 0, 1, 1, 1, 1, 1, 1, 1, 0, 1, 1, 0, 0, 1,\n",
       "       1, 1, 0, 1, 1, 1, 0, 0, 1, 1, 1, 1, 1, 0, 1, 1, 1, 1, 1, 0, 1, 1,\n",
       "       1, 1, 1, 1, 1, 1, 1, 1, 1, 1, 1, 1, 1, 1, 1, 1, 0, 1, 1, 0, 1, 1,\n",
       "       1, 1, 1, 1, 0, 1, 1, 1, 1, 1, 1, 1, 1, 0, 1, 1, 1, 1, 1, 1, 1, 1,\n",
       "       1, 1, 1, 1, 1, 0, 1, 0, 1, 1, 1, 1, 1, 1, 1, 1, 1, 1, 1, 1, 1, 1,\n",
       "       1, 1, 1, 1, 0, 0, 1, 1, 1, 1, 1, 0, 1, 1, 0, 0, 1, 1, 1, 1, 1, 1,\n",
       "       1, 1, 1, 1, 1, 1, 1, 1, 0, 1, 0, 1, 1, 1, 1, 1, 0, 0, 1, 1, 1, 0])"
      ]
     },
     "execution_count": 41,
     "metadata": {},
     "output_type": "execute_result"
    }
   ],
   "source": [
    "from sklearn.svm import SVC # \"Support vector classifier\"  \n",
    "svc = SVC(kernel='linear', random_state=0)  \n",
    "svc.fit(x_train, y_train)  \n",
    "\n",
    "y_pred_svc = svc.predict(x_test)\n",
    "y_pred_svc"
   ]
  },
  {
   "cell_type": "code",
   "execution_count": 42,
   "id": "994bd46c",
   "metadata": {
    "execution": {
     "iopub.execute_input": "2023-09-10T10:58:13.155248Z",
     "iopub.status.busy": "2023-09-10T10:58:13.154361Z",
     "iopub.status.idle": "2023-09-10T10:58:13.161770Z",
     "shell.execute_reply": "2023-09-10T10:58:13.161123Z"
    },
    "papermill": {
     "duration": 0.032085,
     "end_time": "2023-09-10T10:58:13.163626",
     "exception": false,
     "start_time": "2023-09-10T10:58:13.131541",
     "status": "completed"
    },
    "tags": []
   },
   "outputs": [
    {
     "data": {
      "text/plain": [
       "(array([[ 22,  21],\n",
       "        [  4, 107]]),\n",
       " 0.8376623376623377)"
      ]
     },
     "execution_count": 42,
     "metadata": {},
     "output_type": "execute_result"
    }
   ],
   "source": [
    "cm = confusion_matrix(y_test, y_pred_svc)\n",
    "acs = accuracy_score(y_test, y_pred_svc)\n",
    "cm, acs"
   ]
  },
  {
   "cell_type": "code",
   "execution_count": 43,
   "id": "46743db0",
   "metadata": {
    "execution": {
     "iopub.execute_input": "2023-09-10T10:58:13.210756Z",
     "iopub.status.busy": "2023-09-10T10:58:13.209918Z",
     "iopub.status.idle": "2023-09-10T10:58:13.476587Z",
     "shell.execute_reply": "2023-09-10T10:58:13.475384Z"
    },
    "papermill": {
     "duration": 0.293028,
     "end_time": "2023-09-10T10:58:13.479304",
     "exception": false,
     "start_time": "2023-09-10T10:58:13.186276",
     "status": "completed"
    },
    "tags": []
   },
   "outputs": [
    {
     "data": {
      "image/png": "[encoded data removed]",
      "text/plain": [
       "<Figure size 640x480 with 2 Axes>"
      ]
     },
     "metadata": {},
     "output_type": "display_data"
    }
   ],
   "source": [
    "sns.heatmap(cm, annot=True, fmt='.2f', cmap='magma') \n",
    "plt.xlabel('Predicted')\n",
    "plt.ylabel('True')\n",
    "plt.title('Confusion Matrix')\n",
    "plt.show()"
   ]
  },
  {
   "cell_type": "markdown",
   "id": "def26dea",
   "metadata": {
    "papermill": {
     "duration": 0.027846,
     "end_time": "2023-09-10T10:58:13.536610",
     "exception": false,
     "start_time": "2023-09-10T10:58:13.508764",
     "status": "completed"
    },
    "tags": []
   },
   "source": [
    "#### Logistic Regression is best for this"
   ]
  },
  {
   "cell_type": "code",
   "execution_count": null,
   "id": "6be6c094",
   "metadata": {
    "papermill": {
     "duration": 0.02987,
     "end_time": "2023-09-10T10:58:13.599290",
     "exception": false,
     "start_time": "2023-09-10T10:58:13.569420",
     "status": "completed"
    },
    "tags": []
   },
   "outputs": [],
   "source": []
  }
 ],
 "kernelspec": {
  "display_name": "Python 3",
  "language": "python",
  "name": "python3"
 },
 "language_info": {
  "codemirror_mode": {
   "name": "ipython",
   "version": 3
  },
  "file_extension": ".py",
  "mimetype": "text/x-python",
  "name": "python",
  "nbconvert_exporter": "python",
  "pygments_lexer": "ipython3",
  "version": "3.6.4"
 },
 "metadata": {
  "kernelspec": {
   "display_name": "Python 3",
   "language": "python",
   "name": "python3"
  },
  "language_info": {
   "codemirror_mode": {
    "name": "ipython",
    "version": 3
   },
   "file_extension": ".py",
   "mimetype": "text/x-python",
   "name": "python",
   "nbconvert_exporter": "python",
   "pygments_lexer": "ipython3",
   "version": "3.10.12"
  },
  "papermill": {
   "default_parameters": {},
   "duration": 10.332819,
   "end_time": "2023-09-10T10:58:14.143930",
   "environment_variables": {},
   "exception": null,
   "input_path": "__notebook__.ipynb",
   "output_path": "__notebook__.ipynb",
   "parameters": {},
   "start_time": "2023-09-10T10:58:03.811111",
   "version": "2.4.0"
  }
 },
 "nbformat": 4,
 "nbformat_minor": 5
}
